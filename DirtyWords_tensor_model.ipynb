{
  "nbformat": 4,
  "nbformat_minor": 0,
  "metadata": {
    "colab": {
      "name": "DirtyWords_tensor_model.ipynb",
      "provenance": [],
      "collapsed_sections": []
    },
    "kernelspec": {
      "display_name": "Python 3",
      "name": "python3"
    }
  },
  "cells": [
    {
      "cell_type": "code",
      "metadata": {
        "colab": {
          "base_uri": "https://localhost:8080/"
        },
        "id": "b6UecBPEPBwY",
        "outputId": "71084174-153e-4e6c-d1ec-de4096165ea7"
      },
      "source": [
        "from google.colab import drive\n",
        "drive.mount('/content/drive')"
      ],
      "execution_count": null,
      "outputs": [
        {
          "output_type": "stream",
          "name": "stdout",
          "text": [
            "Drive already mounted at /content/drive; to attempt to forcibly remount, call drive.mount(\"/content/drive\", force_remount=True).\n"
          ]
        }
      ]
    },
    {
      "cell_type": "code",
      "metadata": {
        "id": "5IoRbCA2n0_V",
        "colab": {
          "base_uri": "https://localhost:8080/"
        },
        "outputId": "46051c9a-ce0f-479a-85cb-b803b6d1a74c"
      },
      "source": [
        "################# Thank you to all the packages that gave me the strength to make this baby work!!!!! ##########\n",
        "\n",
        "import pandas as pd\n",
        "import tensorflow as tf\n",
        "import numpy as np # linear algebra\n",
        "import pandas as pd\n",
        "import matplotlib.pyplot as plt\n",
        "from scipy.stats import iqr \n",
        "from scipy import stats\n",
        "import itertools\n",
        "import os\n",
        "\n",
        "%matplotlib inline\n",
        "import matplotlib.pyplot as plt\n",
        "import numpy as np\n",
        "import pandas as pd\n",
        "import tensorflow as tf\n",
        "\n",
        "import math\n",
        "from pprint import pprint\n",
        "import seaborn as sns\n",
        "\n",
        "from sklearn.preprocessing import LabelBinarizer, LabelEncoder\n",
        "from sklearn.metrics import confusion_matrix\n",
        "\n",
        "from tensorflow import keras\n",
        "import tensorflow_hub as hub\n",
        "import tensorflow_datasets as tfds\n",
        "import string\n",
        "from tensorflow.keras.layers import TextVectorization\n",
        "from tensorflow.python.ops.numpy_ops import np_config\n",
        "np_config.enable_numpy_behavior()\n",
        "\n",
        "import re\n",
        "\n",
        "import nltk\n",
        "nltk.download('vader_lexicon')\n",
        "# Import stopwords with nltk.\n",
        "from nltk.corpus import stopwords\n",
        "\n",
        "nltk.download('stopwords')\n",
        "stop = stopwords.words('english')\n",
        "\n",
        "from nltk.stem import WordNetLemmatizer \n",
        "nltk.download('wordnet')\n",
        "\n",
        "from nltk.sentiment.vader import SentimentIntensityAnalyzer as SIA\n",
        "SHUFFLE_BUFFER = 500\n",
        "BATCH_SIZE = 5"
      ],
      "execution_count": null,
      "outputs": [
        {
          "output_type": "stream",
          "name": "stdout",
          "text": [
            "[nltk_data] Downloading package vader_lexicon to /root/nltk_data...\n",
            "[nltk_data]   Package vader_lexicon is already up-to-date!\n",
            "[nltk_data] Downloading package stopwords to /root/nltk_data...\n",
            "[nltk_data]   Package stopwords is already up-to-date!\n",
            "[nltk_data] Downloading package wordnet to /root/nltk_data...\n",
            "[nltk_data]   Package wordnet is already up-to-date!\n"
          ]
        }
      ]
    },
    {
      "cell_type": "code",
      "metadata": {
        "id": "IRfF1cKeB_ji"
      },
      "source": [
        "################### Func definitions for MVLogistic #########################\n",
        "def softmax(h):\n",
        "  return (np.exp(h.T)/np.sum(np.exp(h), axis=1)).T\n",
        "\n",
        "def cross_entropy(Y, P_hat):\n",
        "  return -(1/len(Y))*np.sum(np.sum(Y*np.log(P_hat),axis=1),axis=0)\n",
        "\n",
        "def accuarcy(y, y_hat):\n",
        "  return np.mean(y==y_hat)\n",
        "\n",
        "def indices_to_one_hot(data, nb_classes):\n",
        "  targets = np.array(data).reshape(-1)\n",
        "  return np.eye(nb_classes)[targets]"
      ],
      "execution_count": null,
      "outputs": []
    },
    {
      "cell_type": "code",
      "metadata": {
        "id": "TgDyTXZFCFVt"
      },
      "source": [
        "########################## first classification model ###########################\n",
        "class MVLogisticRegression():\n",
        "\n",
        "  def __init__(self,thresh=0.4):\n",
        "    self.thresh = thresh\n",
        "\n",
        "  def __forward__(self,X):\n",
        "    return softmax(X@self.W + self.B)\n",
        "\n",
        "  def fit(self, X, y, eta=2e-1, epochs=1e3, show_curve=False):\n",
        "    epochs = int(epochs)\n",
        "    N,D = X.shape\n",
        "    K= len(np.unique(y))\n",
        "    y_values= np.unique(y, return_index=False)\n",
        "    Y= indices_to_one_hot(y, K).astype(int)\n",
        "\n",
        "    self.W=np.random.randn(D,K)\n",
        "    self.B = np.random.randn(1,K)\n",
        "\n",
        "    J= np.zeros(int(epochs))\n",
        "\n",
        "    for epoch in range(epochs):\n",
        "      P_hat= self.__forward__(X)\n",
        "      J[epoch]=cross_entropy(Y, P_hat)\n",
        "\n",
        "      self.W -=  eta*(1/N)*X.T@(P_hat-Y)\n",
        "      self.B -= eta*(1/N)*np.sum(P_hat-Y,axis=0)\n",
        "\n",
        "    if show_curve:\n",
        "      plt.figure()\n",
        "      plt.plot(J)\n",
        "      plt.xlabel(\"epochs\")\n",
        "      plt.ylabel(\"$\\mathcal{J}$\")\n",
        "      plt.title(\"Training Curve\")\n",
        "\n",
        "  \n",
        "\n",
        "  def predict(self, X):\n",
        "    return np.argmax(self.__forward__(X), axis=1)"
      ],
      "execution_count": null,
      "outputs": []
    },
    {
      "cell_type": "code",
      "metadata": {
        "id": "VS4w2LePn9g3",
        "colab": {
          "base_uri": "https://localhost:8080/",
          "height": 204
        },
        "outputId": "18859fe7-e03e-41d1-d9ed-f9efdfb6245e"
      },
      "source": [
        "df = pd.read_csv('/content/Dirty_intersected_words.csv')\n",
        "df.head()"
      ],
      "execution_count": null,
      "outputs": [
        {
          "output_type": "execute_result",
          "data": {
            "text/html": [
              "<div>\n",
              "<style scoped>\n",
              "    .dataframe tbody tr th:only-of-type {\n",
              "        vertical-align: middle;\n",
              "    }\n",
              "\n",
              "    .dataframe tbody tr th {\n",
              "        vertical-align: top;\n",
              "    }\n",
              "\n",
              "    .dataframe thead th {\n",
              "        text-align: right;\n",
              "    }\n",
              "</style>\n",
              "<table border=\"1\" class=\"dataframe\">\n",
              "  <thead>\n",
              "    <tr style=\"text-align: right;\">\n",
              "      <th></th>\n",
              "      <th>String</th>\n",
              "      <th>Label</th>\n",
              "    </tr>\n",
              "  </thead>\n",
              "  <tbody>\n",
              "    <tr>\n",
              "      <th>0</th>\n",
              "      <td>*screams in 25 different languages*</td>\n",
              "      <td>1</td>\n",
              "    </tr>\n",
              "    <tr>\n",
              "      <th>1</th>\n",
              "      <td>A group of Florida Forest Service firefighters...</td>\n",
              "      <td>1</td>\n",
              "    </tr>\n",
              "    <tr>\n",
              "      <th>2</th>\n",
              "      <td>70 Years After Atomic Bombs Japan Still Strugg...</td>\n",
              "      <td>2</td>\n",
              "    </tr>\n",
              "    <tr>\n",
              "      <th>3</th>\n",
              "      <td>Anyway' the old lady went on 'I have something...</td>\n",
              "      <td>2</td>\n",
              "    </tr>\n",
              "    <tr>\n",
              "      <th>4</th>\n",
              "      <td>Hi-Res Doppler showing storm just NE of Edmond...</td>\n",
              "      <td>3</td>\n",
              "    </tr>\n",
              "  </tbody>\n",
              "</table>\n",
              "</div>"
            ],
            "text/plain": [
              "                                              String  Label\n",
              "0                *screams in 25 different languages*      1\n",
              "1  A group of Florida Forest Service firefighters...      1\n",
              "2  70 Years After Atomic Bombs Japan Still Strugg...      2\n",
              "3  Anyway' the old lady went on 'I have something...      2\n",
              "4  Hi-Res Doppler showing storm just NE of Edmond...      3"
            ]
          },
          "metadata": {},
          "execution_count": 47
        }
      ]
    },
    {
      "cell_type": "code",
      "metadata": {
        "id": "8FkK6QIRpjd4"
      },
      "source": [
        "df.drop_duplicates(['String'])\n",
        "df['String']=df['String'].str.replace(r'https?:\\/\\/.*[\\r\\n]*','', case=False)"
      ],
      "execution_count": null,
      "outputs": []
    },
    {
      "cell_type": "code",
      "metadata": {
        "id": "9r9g9GdyoIXr"
      },
      "source": [
        "######################### function to define classes #################3\n",
        "def cat(x):\n",
        "    if  x==0:\n",
        "      return 0\n",
        "    if x==1:\n",
        "      return 1\n",
        "    if x==2:\n",
        "      return 1\n",
        "    if x==3:\n",
        "      return 2\n",
        "    if x == 4:\n",
        "      return 2\n",
        "df['Label'] = df['Label'].apply(lambda x: cat(x))"
      ],
      "execution_count": null,
      "outputs": []
    },
    {
      "cell_type": "code",
      "metadata": {
        "colab": {
          "base_uri": "https://localhost:8080/"
        },
        "id": "PJq1ChmUohmJ",
        "outputId": "d3233d15-a043-413e-a0f6-5414d1427c5c"
      },
      "source": [
        "############# check for unbalanced data #############\n",
        "df['Label'].value_counts()"
      ],
      "execution_count": null,
      "outputs": [
        {
          "output_type": "execute_result",
          "data": {
            "text/plain": [
              "0    598\n",
              "1    337\n",
              "2    179\n",
              "Name: Label, dtype: int64"
            ]
          },
          "metadata": {},
          "execution_count": 50
        }
      ]
    },
    {
      "cell_type": "code",
      "metadata": {
        "colab": {
          "base_uri": "https://localhost:8080/",
          "height": 499
        },
        "id": "aNdBeDxQCQ92",
        "outputId": "4f12a65c-548c-4dcd-8777-bbe149eda057"
      },
      "source": [
        "#################################### Plot category freqeuncies as percentage ###############################\n",
        "fig, ax = plt.subplots(figsize=(8, 8))\n",
        "\n",
        "counts = df.Label.value_counts(normalize=True) * 100\n",
        "\n",
        "sns.barplot(x=counts.index, y=counts, ax=ax)\n",
        "plt.title('Danger Will Robinson?')\n",
        "ax.set_xticklabels(['No Danger', 'Risk', 'Danger'])\n",
        "ax.set_ylabel(\"Percentage\")\n",
        "\n",
        "plt.show()"
      ],
      "execution_count": null,
      "outputs": [
        {
          "output_type": "display_data",
          "data": {
            "image/png": "[encoded data removed]",
            "text/plain": [
              "<Figure size 576x576 with 1 Axes>"
            ]
          },
          "metadata": {
            "needs_background": "light"
          }
        }
      ]
    },
    {
      "cell_type": "code",
      "metadata": {
        "id": "7Sh-bCvOYBib",
        "colab": {
          "base_uri": "https://localhost:8080/"
        },
        "outputId": "6f336c1a-ec54-4ef2-8ca1-8aab8a19b8c2"
      },
      "source": [
        "################### take 80% for train and 20% for test data as a training/test size ##############\n",
        "train_size = int(len(df) * .8)\n",
        "print (\"Train size: %d\" % train_size)\n",
        "print (\"Test size: %d\" % (len(df) - train_size))"
      ],
      "execution_count": null,
      "outputs": [
        {
          "output_type": "stream",
          "name": "stdout",
          "text": [
            "Train size: 891\n",
            "Test size: 223\n"
          ]
        }
      ]
    },
    {
      "cell_type": "code",
      "metadata": {
        "id": "LabA2lpEX0vG"
      },
      "source": [
        "############### define a data spliting function ##############\n",
        "def train_test_split(data, train_size):\n",
        "    train = data[:train_size]\n",
        "    test = data[train_size:]\n",
        "    return train, test"
      ],
      "execution_count": null,
      "outputs": []
    },
    {
      "cell_type": "code",
      "metadata": {
        "id": "RUNnypScXuCl"
      },
      "source": [
        "############# Apply the function to actually get a split using the train_size above ###################\n",
        "train_cat, test_cat = train_test_split(df['Label'], train_size)\n",
        "train_text, test_text = train_test_split(df['String'], train_size)"
      ],
      "execution_count": null,
      "outputs": []
    },
    {
      "cell_type": "code",
      "metadata": {
        "colab": {
          "base_uri": "https://localhost:8080/"
        },
        "id": "IhskAFfan472",
        "outputId": "5a2487fd-6824-4f0b-d129-784d94a2470b"
      },
      "source": [
        "################## View any unbalance in the training categorical variable #############\n",
        "train_cat.value_counts()"
      ],
      "execution_count": null,
      "outputs": [
        {
          "output_type": "execute_result",
          "data": {
            "text/plain": [
              "0    470\n",
              "1    271\n",
              "2    150\n",
              "Name: Label, dtype: int64"
            ]
          },
          "metadata": {},
          "execution_count": 55
        }
      ]
    },
    {
      "cell_type": "code",
      "metadata": {
        "id": "_MOAKz654CT5"
      },
      "source": [
        "################### The fun stuff: hit our sentence with an embedder ######################\n",
        "embed = hub.load(\"https://tfhub.dev/google/universal-sentence-encoder/4\")\n",
        "\n",
        "################## embed train and test texts ##############\n",
        "train_embeddings = embed(train_text)\n",
        "test_embeddings = embed(test_text)"
      ],
      "execution_count": null,
      "outputs": []
    },
    {
      "cell_type": "code",
      "metadata": {
        "id": "518CHHJNCyBZ"
      },
      "source": [
        "################# Use our hand made MVL #######################\n",
        "logreg = MVLogisticRegression()"
      ],
      "execution_count": null,
      "outputs": []
    },
    {
      "cell_type": "code",
      "metadata": {
        "colab": {
          "base_uri": "https://localhost:8080/",
          "height": 295
        },
        "id": "-xS_TkTmBxfn",
        "outputId": "b817702b-38c4-4fa3-c385-d5eed5ee030e"
      },
      "source": [
        "##################### Train the MVL ####################\n",
        "logreg.fit(train_embeddings, train_cat, eta=1e-1, epochs=3e1, show_curve=True)"
      ],
      "execution_count": null,
      "outputs": [
        {
          "output_type": "display_data",
          "data": {
            "image/png": "[encoded data removed]",
            "text/plain": [
              "<Figure size 432x288 with 1 Axes>"
            ]
          },
          "metadata": {
            "needs_background": "light"
          }
        }
      ]
    },
    {
      "cell_type": "code",
      "metadata": {
        "id": "vBXnET96DYRg"
      },
      "source": [
        "y_hat_train = logreg.predict(train_embeddings)"
      ],
      "execution_count": null,
      "outputs": []
    },
    {
      "cell_type": "code",
      "metadata": {
        "colab": {
          "base_uri": "https://localhost:8080/"
        },
        "id": "r4iV1bv1De6i",
        "outputId": "89945664-349b-4549-87a7-ebd0d3b7e319"
      },
      "source": [
        "########################## Train accuracy #######################\n",
        "accuarcy(y_hat_train,train_cat)"
      ],
      "execution_count": null,
      "outputs": [
        {
          "output_type": "execute_result",
          "data": {
            "text/plain": [
              "0.3782267115600449"
            ]
          },
          "metadata": {},
          "execution_count": 60
        }
      ]
    },
    {
      "cell_type": "code",
      "metadata": {
        "id": "76pMnEmJE9w1"
      },
      "source": [
        "y_hat_test = logreg.predict(test_embeddings)"
      ],
      "execution_count": null,
      "outputs": []
    },
    {
      "cell_type": "code",
      "metadata": {
        "colab": {
          "base_uri": "https://localhost:8080/"
        },
        "id": "lmiYj6_rFMLn",
        "outputId": "e401696c-7765-4686-b070-8d7fc7284463"
      },
      "source": [
        "########################### Test accuracy #########################\n",
        "accuarcy(y_hat_test,test_cat)"
      ],
      "execution_count": null,
      "outputs": [
        {
          "output_type": "execute_result",
          "data": {
            "text/plain": [
              "0.3901345291479821"
            ]
          },
          "metadata": {},
          "execution_count": 62
        }
      ]
    },
    {
      "cell_type": "code",
      "metadata": {
        "id": "Fj3PQr7dOYbc"
      },
      "source": [
        "################### The fun stuff: hit our sentence with an embedder ######################\n",
        "embed = hub.load(\"https://tfhub.dev/google/universal-sentence-encoder/4\")\n",
        "\n",
        "################## embed train and test texts ##############\n",
        "train_embeddings = embed(train_text)\n",
        "test_embeddings = embed(test_text)"
      ],
      "execution_count": null,
      "outputs": []
    },
    {
      "cell_type": "code",
      "metadata": {
        "colab": {
          "base_uri": "https://localhost:8080/"
        },
        "id": "LgaeurXLzCfk",
        "outputId": "627c1e54-6b99-4f01-be26-deab3dbb928a"
      },
      "source": [
        "train_embeddings.shape"
      ],
      "execution_count": null,
      "outputs": [
        {
          "output_type": "execute_result",
          "data": {
            "text/plain": [
              "TensorShape([891, 512])"
            ]
          },
          "metadata": {},
          "execution_count": 64
        }
      ]
    },
    {
      "cell_type": "code",
      "metadata": {
        "id": "2wwhILm1ycSp"
      },
      "source": [
        "###################### Gimme those Tensors baby #############################\n",
        "train_cat_tensor=tf.convert_to_tensor(train_cat)\n",
        "test_cat_tensor=tf.convert_to_tensor(test_cat)"
      ],
      "execution_count": null,
      "outputs": []
    },
    {
      "cell_type": "code",
      "metadata": {
        "colab": {
          "base_uri": "https://localhost:8080/"
        },
        "id": "R-TGYEJj0eDI",
        "outputId": "4b41b65b-1c13-4a3f-dbed-8c3514fcc366"
      },
      "source": [
        "train_cat_tensor.shape"
      ],
      "execution_count": null,
      "outputs": [
        {
          "output_type": "execute_result",
          "data": {
            "text/plain": [
              "TensorShape([891])"
            ]
          },
          "metadata": {},
          "execution_count": 66
        }
      ]
    },
    {
      "cell_type": "code",
      "metadata": {
        "id": "88XTmyEdgkJn"
      },
      "source": [
        "##################### define a normalizer for the tensor data ###############\n",
        "normalizer = tf.keras.layers.Normalization(axis=-1)"
      ],
      "execution_count": null,
      "outputs": []
    },
    {
      "cell_type": "code",
      "metadata": {
        "id": "lu-bni-nh6mX"
      },
      "source": [
        "###################### Define a basic model with three inner layers: we gettin deep in here ##############3\n",
        "def get_basic_model():\n",
        "  model = tf.keras.Sequential([\n",
        "    normalizer,\n",
        "    tf.keras.layers.Dense(512, activation='relu'),\n",
        "    tf.keras.layers.Dense(200, activation='relu'),\n",
        "    tf.keras.layers.Dense(12,activation='softmax'),\n",
        "    tf.keras.layers.Dense(1)\n",
        "  ])\n",
        "\n",
        "  model.compile(optimizer='adam',\n",
        "                loss=tf.keras.losses.BinaryCrossentropy(from_logits=True),\n",
        "                metrics=['accuracy'])\n",
        "  return model"
      ],
      "execution_count": null,
      "outputs": []
    },
    {
      "cell_type": "code",
      "metadata": {
        "id": "XMjM-eddiNNT",
        "colab": {
          "base_uri": "https://localhost:8080/"
        },
        "outputId": "92dba967-85c3-4420-cbf8-fc163aed146c"
      },
      "source": [
        "############## invoke an instance of the model and fit it to the tensors ###############\n",
        "model = get_basic_model()\n",
        "model.fit(train_embeddings, train_cat_tensor, epochs=10, batch_size=5, validation_split=0.1)"
      ],
      "execution_count": null,
      "outputs": [
        {
          "output_type": "stream",
          "name": "stdout",
          "text": [
            "Epoch 1/10\n",
            "161/161 [==============================] - 1s 5ms/step - loss: 0.5533 - accuracy: 0.5693 - val_loss: 0.5377 - val_accuracy: 0.6111\n",
            "Epoch 2/10\n",
            "161/161 [==============================] - 1s 4ms/step - loss: 0.4137 - accuracy: 0.6230 - val_loss: 0.4965 - val_accuracy: 0.5889\n",
            "Epoch 3/10\n",
            "161/161 [==============================] - 1s 4ms/step - loss: 0.3347 - accuracy: 0.6679 - val_loss: 0.5018 - val_accuracy: 0.5778\n",
            "Epoch 4/10\n",
            "161/161 [==============================] - 1s 4ms/step - loss: 0.2771 - accuracy: 0.6779 - val_loss: 0.5229 - val_accuracy: 0.5778\n",
            "Epoch 5/10\n",
            "161/161 [==============================] - 1s 4ms/step - loss: 0.2098 - accuracy: 0.7016 - val_loss: 0.4343 - val_accuracy: 0.6556\n",
            "Epoch 6/10\n",
            "161/161 [==============================] - 1s 4ms/step - loss: 0.1576 - accuracy: 0.7166 - val_loss: 0.5409 - val_accuracy: 0.5222\n",
            "Epoch 7/10\n",
            "161/161 [==============================] - 1s 4ms/step - loss: 0.1190 - accuracy: 0.7154 - val_loss: 0.4858 - val_accuracy: 0.5778\n",
            "Epoch 8/10\n",
            "161/161 [==============================] - 1s 4ms/step - loss: 0.0933 - accuracy: 0.7141 - val_loss: 0.4178 - val_accuracy: 0.6111\n",
            "Epoch 9/10\n",
            "161/161 [==============================] - 1s 4ms/step - loss: 0.0327 - accuracy: 0.7316 - val_loss: 0.4583 - val_accuracy: 0.5778\n",
            "Epoch 10/10\n",
            "161/161 [==============================] - 1s 4ms/step - loss: -0.0052 - accuracy: 0.7341 - val_loss: 0.4751 - val_accuracy: 0.5778\n"
          ]
        },
        {
          "output_type": "execute_result",
          "data": {
            "text/plain": [
              "<keras.callbacks.History at 0x7f0603fb8a50>"
            ]
          },
          "metadata": {},
          "execution_count": 69
        }
      ]
    },
    {
      "cell_type": "code",
      "metadata": {
        "colab": {
          "base_uri": "https://localhost:8080/"
        },
        "id": "HbKbIZKKhFY4",
        "outputId": "0d590b27-029a-4c70-add1-b8c04b789945"
      },
      "source": [
        "batch_size = 5\n",
        "######################### Evaluate the accuracy of our trained model #####################\n",
        "score = model.evaluate(test_embeddings, test_cat_tensor,\n",
        "                       batch_size=batch_size, verbose=1)\n",
        "print('Test loss:', score[0])\n",
        "print('Test accuracy:', score[1])"
      ],
      "execution_count": null,
      "outputs": [
        {
          "output_type": "stream",
          "name": "stdout",
          "text": [
            "45/45 [==============================] - 0s 2ms/step - loss: 0.4332 - accuracy: 0.6592\n",
            "Test loss: 0.4332323372364044\n",
            "Test accuracy: 0.6591928005218506\n"
          ]
        }
      ]
    },
    {
      "cell_type": "code",
      "metadata": {
        "colab": {
          "base_uri": "https://localhost:8080/"
        },
        "id": "XnX8V5QupIDN",
        "outputId": "60a0b32d-d59d-4319-fefc-75ce7942ad80"
      },
      "source": [
        "max_words = 1000\n",
        "tokenize = keras.preprocessing.text.Tokenizer(num_words=max_words, char_level=False)\n",
        "user_input = input()"
      ],
      "execution_count": null,
      "outputs": [
        {
          "name": "stdout",
          "output_type": "stream",
          "text": [
            "hello\n"
          ]
        }
      ]
    },
    {
      "cell_type": "code",
      "metadata": {
        "id": "BvFZANDKpe5_"
      },
      "source": [
        "tokenize.fit_on_texts(user_input) # fit tokenizer to our training text data\n",
        "user_sent = tokenize.texts_to_matrix(user_input)"
      ],
      "execution_count": null,
      "outputs": []
    }
  ]
}